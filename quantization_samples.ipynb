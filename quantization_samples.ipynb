{
 "cells": [
  {
   "cell_type": "code",
   "execution_count": 1,
   "id": "a7fc2eca",
   "metadata": {},
   "outputs": [
    {
     "name": "stderr",
     "output_type": "stream",
     "text": [
      "c:\\src\\slm\\slmenv\\Lib\\site-packages\\torch\\_subclasses\\functional_tensor.py:275: UserWarning: Failed to initialize NumPy: No module named 'numpy' (Triggered internally at C:\\actions-runner\\_work\\pytorch\\pytorch\\pytorch\\torch\\csrc\\utils\\tensor_numpy.cpp:81.)\n",
      "  cpu = _conversion_method_template(device=torch.device(\"cpu\"))\n"
     ]
    }
   ],
   "source": [
    "import torch"
   ]
  },
  {
   "cell_type": "code",
   "execution_count": 3,
   "id": "da529b72",
   "metadata": {},
   "outputs": [
    {
     "name": "stdout",
     "output_type": "stream",
     "text": [
      "iinfo(min=-9.22337e+18, max=9.22337e+18, dtype=int64)\n",
      "iinfo(min=-2.14748e+09, max=2.14748e+09, dtype=int32)\n",
      "iinfo(min=-32768, max=32767, dtype=int16)\n",
      "iinfo(min=-128, max=127, dtype=int8)\n",
      "iinfo(min=0, max=255, dtype=uint8)\n"
     ]
    }
   ],
   "source": [
    "print(torch.iinfo(torch.int64))\n",
    "print(torch.iinfo(torch.int32))\n",
    "print(torch.iinfo(torch.int16))\n",
    "print(torch.iinfo(torch.int8))\n",
    "print(torch.iinfo(torch.uint8))"
   ]
  },
  {
   "cell_type": "code",
   "execution_count": 5,
   "id": "37c32aa6",
   "metadata": {},
   "outputs": [
    {
     "name": "stdout",
     "output_type": "stream",
     "text": [
      "0.3333333333333333\n",
      "<class 'float'>\n"
     ]
    }
   ],
   "source": [
    "value = 1/3\n",
    "format(value, '.20f')\n",
    "print(value)\n",
    "print(type(value))"
   ]
  },
  {
   "cell_type": "code",
   "execution_count": 10,
   "id": "ede3f062",
   "metadata": {},
   "outputs": [
    {
     "name": "stdout",
     "output_type": "stream",
     "text": [
      "Tensor 64b:  tensor([0.3333], dtype=torch.float64)\n",
      "Tensor 32b:  tensor([0.3333])\n",
      "Tensor 16b:  tensor([0.3333], dtype=torch.float16)\n",
      "Tensor 8b:  tensor([0.3340], dtype=torch.bfloat16)\n"
     ]
    }
   ],
   "source": [
    "tensor_fp_64b = torch.tensor([1/3], dtype=torch.float64)\n",
    "tensor_fp_32b = torch.tensor([1/3], dtype=torch.float32)\n",
    "tensor_fp_16b = torch.tensor([1/3], dtype=torch.float16)\n",
    "tensor_fp_8b = torch.tensor([1/3], dtype=torch.bfloat16)\n",
    "print(\"Tensor 64b: \", tensor_fp_64b)\n",
    "print(\"Tensor 32b: \", tensor_fp_32b)\n",
    "print(\"Tensor 16b: \", tensor_fp_16b)   \n",
    "print(\"Tensor 8b: \", tensor_fp_8b)"
   ]
  },
  {
   "cell_type": "code",
   "execution_count": null,
   "id": "26ebecf6",
   "metadata": {},
   "outputs": [],
   "source": []
  },
  {
   "cell_type": "code",
   "execution_count": null,
   "id": "39392456",
   "metadata": {},
   "outputs": [],
   "source": []
  }
 ],
 "metadata": {
  "kernelspec": {
   "display_name": "slmenv",
   "language": "python",
   "name": "python3"
  },
  "language_info": {
   "codemirror_mode": {
    "name": "ipython",
    "version": 3
   },
   "file_extension": ".py",
   "mimetype": "text/x-python",
   "name": "python",
   "nbconvert_exporter": "python",
   "pygments_lexer": "ipython3",
   "version": "3.12.10"
  }
 },
 "nbformat": 4,
 "nbformat_minor": 5
}
