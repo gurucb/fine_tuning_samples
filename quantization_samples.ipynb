{
 "cells": [
  {
   "cell_type": "code",
   "execution_count": 1,
   "id": "a7fc2eca",
   "metadata": {},
   "outputs": [],
   "source": [
    "import torch\n",
    "import warnings\n",
    "warnings.filterwarnings(\"ignore\")"
   ]
  },
  {
   "cell_type": "markdown",
   "id": "f2f8eec1",
   "metadata": {},
   "source": [
    "There are multiple quantiization methods\n",
    "[Quantization Methods for Inference](https://huggingface.co/docs/transformers/main/en/quantization/selecting#inference)\n",
    "\n",
    "Quantization methods are two\n",
    "1. Data Free Calibration (relying on Weights distribution only without external data). Example bitsandbytes\n",
    "2. Calibration based (relying on external data for quanziation). Example GPTQ"
   ]
  },
  {
   "cell_type": "code",
   "execution_count": 3,
   "id": "da529b72",
   "metadata": {},
   "outputs": [
    {
     "name": "stdout",
     "output_type": "stream",
     "text": [
      "iinfo(min=-9.22337e+18, max=9.22337e+18, dtype=int64)\n",
      "iinfo(min=-2.14748e+09, max=2.14748e+09, dtype=int32)\n",
      "iinfo(min=-32768, max=32767, dtype=int16)\n",
      "iinfo(min=-128, max=127, dtype=int8)\n",
      "iinfo(min=0, max=255, dtype=uint8)\n"
     ]
    }
   ],
   "source": [
    "print(torch.iinfo(torch.int64))\n",
    "print(torch.iinfo(torch.int32))\n",
    "print(torch.iinfo(torch.int16))\n",
    "print(torch.iinfo(torch.int8))\n",
    "print(torch.iinfo(torch.uint8))"
   ]
  },
  {
   "cell_type": "code",
   "execution_count": 5,
   "id": "37c32aa6",
   "metadata": {},
   "outputs": [
    {
     "name": "stdout",
     "output_type": "stream",
     "text": [
      "0.3333333333333333\n",
      "<class 'float'>\n"
     ]
    }
   ],
   "source": [
    "value = 1/3\n",
    "format(value, '.20f')\n",
    "print(value)\n",
    "print(type(value))"
   ]
  },
  {
   "cell_type": "code",
   "execution_count": 10,
   "id": "ede3f062",
   "metadata": {},
   "outputs": [
    {
     "name": "stdout",
     "output_type": "stream",
     "text": [
      "Tensor 64b:  tensor([0.3333], dtype=torch.float64)\n",
      "Tensor 32b:  tensor([0.3333])\n",
      "Tensor 16b:  tensor([0.3333], dtype=torch.float16)\n",
      "Tensor 8b:  tensor([0.3340], dtype=torch.bfloat16)\n"
     ]
    }
   ],
   "source": [
    "tensor_fp_64b = torch.tensor([1/3], dtype=torch.float64)\n",
    "tensor_fp_32b = torch.tensor([1/3], dtype=torch.float32)\n",
    "tensor_fp_16b = torch.tensor([1/3], dtype=torch.float16)\n",
    "tensor_fp_8b = torch.tensor([1/3], dtype=torch.bfloat16)\n",
    "print(\"Tensor 64b: \", tensor_fp_64b)\n",
    "print(\"Tensor 32b: \", tensor_fp_32b)\n",
    "print(\"Tensor 16b: \", tensor_fp_16b)   \n",
    "print(\"Tensor 8b: \", tensor_fp_8b)"
   ]
  },
  {
   "cell_type": "code",
   "execution_count": 3,
   "id": "26ebecf6",
   "metadata": {},
   "outputs": [],
   "source": [
    "from simple_model import SimpleCNNModel"
   ]
  },
  {
   "cell_type": "code",
   "execution_count": null,
   "id": "39392456",
   "metadata": {},
   "outputs": [
    {
     "name": "stdout",
     "output_type": "stream",
     "text": [
      "SimpleCNNModel(\n",
      "  (convnet_layer1): Conv2d(3, 32, kernel_size=(3, 3), stride=(1, 1))\n",
      "  (convnet_layer2): Conv2d(32, 32, kernel_size=(3, 3), stride=(1, 1))\n",
      "  (maxpool_layer1): MaxPool2d(kernel_size=2, stride=2, padding=0, dilation=1, ceil_mode=False)\n",
      "  (convnet_layer3): Conv2d(32, 64, kernel_size=(3, 3), stride=(1, 1))\n",
      "  (convnet_layer4): Conv2d(64, 64, kernel_size=(3, 3), stride=(1, 1))\n",
      "  (maxpool_layer2): MaxPool2d(kernel_size=2, stride=2, padding=0, dilation=1, ceil_mode=False)\n",
      "  (fully_connected_layer1): Linear(in_features=1600, out_features=128, bias=True)\n",
      "  (relu_layer): ReLU()\n",
      "  (fully_connected_layer2): Linear(in_features=128, out_features=10, bias=True)\n",
      ")\n"
     ]
    }
   ],
   "source": [
    "model = SimpleCNNModel()\n"
   ]
  },
  {
   "cell_type": "code",
   "execution_count": null,
   "id": "74231932",
   "metadata": {},
   "outputs": [
    {
     "name": "stdout",
     "output_type": "stream",
     "text": [
      "convnet_layer1.weight torch.float32 cpu\n",
      "convnet_layer1.bias torch.float32 cpu\n",
      "convnet_layer2.weight torch.float32 cpu\n",
      "convnet_layer2.bias torch.float32 cpu\n",
      "convnet_layer3.weight torch.float32 cpu\n",
      "convnet_layer3.bias torch.float32 cpu\n",
      "convnet_layer4.weight torch.float32 cpu\n",
      "convnet_layer4.bias torch.float32 cpu\n",
      "fully_connected_layer1.weight torch.float32 cpu\n",
      "fully_connected_layer1.bias torch.float32 cpu\n",
      "fully_connected_layer2.weight torch.float32 cpu\n",
      "fully_connected_layer2.bias torch.float32 cpu\n"
     ]
    }
   ],
   "source": [
    "\n",
    "for name, param in model.named_parameters():\n",
    "    print(name, param.dtype, param.device)"
   ]
  },
  {
   "cell_type": "code",
   "execution_count": 22,
   "id": "bd2c172c",
   "metadata": {},
   "outputs": [
    {
     "name": "stdout",
     "output_type": "stream",
     "text": [
      "convnet_layer1.weight torch.bfloat16 cpu\n",
      "convnet_layer1.bias torch.bfloat16 cpu\n",
      "convnet_layer2.weight torch.bfloat16 cpu\n",
      "convnet_layer2.bias torch.bfloat16 cpu\n",
      "convnet_layer3.weight torch.bfloat16 cpu\n",
      "convnet_layer3.bias torch.bfloat16 cpu\n",
      "convnet_layer4.weight torch.bfloat16 cpu\n",
      "convnet_layer4.bias torch.bfloat16 cpu\n",
      "fully_connected_layer1.weight torch.bfloat16 cpu\n",
      "fully_connected_layer1.bias torch.bfloat16 cpu\n",
      "fully_connected_layer2.weight torch.bfloat16 cpu\n",
      "fully_connected_layer2.bias torch.bfloat16 cpu\n"
     ]
    }
   ],
   "source": [
    "model_bfp16 = model.to(torch.bfloat16)\n",
    "for name, param in model_bfp16.named_parameters():\n",
    "    print(name, param.dtype, param.device)"
   ]
  },
  {
   "cell_type": "code",
   "execution_count": null,
   "id": "970a48a7",
   "metadata": {},
   "outputs": [],
   "source": []
  }
 ],
 "metadata": {
  "kernelspec": {
   "display_name": "slmenv",
   "language": "python",
   "name": "python3"
  },
  "language_info": {
   "codemirror_mode": {
    "name": "ipython",
    "version": 3
   },
   "file_extension": ".py",
   "mimetype": "text/x-python",
   "name": "python",
   "nbconvert_exporter": "python",
   "pygments_lexer": "ipython3",
   "version": "3.12.10"
  }
 },
 "nbformat": 4,
 "nbformat_minor": 5
}
